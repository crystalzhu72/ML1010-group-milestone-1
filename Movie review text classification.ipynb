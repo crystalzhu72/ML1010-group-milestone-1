{
 "cells": [
  {
   "cell_type": "code",
   "execution_count": null,
   "id": "nuclear-acrobat",
   "metadata": {},
   "outputs": [],
   "source": [
    "import os"
   ]
  },
  {
   "cell_type": "code",
   "execution_count": null,
   "id": "agricultural-cocktail",
   "metadata": {},
   "outputs": [],
   "source": [
    "import pandas as pd"
   ]
  },
  {
   "cell_type": "code",
   "execution_count": null,
   "id": "fatal-traffic",
   "metadata": {},
   "outputs": [],
   "source": [
    "import numpy as np"
   ]
  },
  {
   "cell_type": "code",
   "execution_count": null,
   "id": "earned-catalyst",
   "metadata": {},
   "outputs": [],
   "source": [
    "import glob"
   ]
  },
  {
   "cell_type": "code",
   "execution_count": null,
   "id": "accessible-studio",
   "metadata": {
    "scrolled": true
   },
   "outputs": [],
   "source": [
    "#read traub neg files\n",
    "text=[]\n",
    "file_names=[]\n",
    "is_positive=[]\n",
    "#path=r\"C:\\Users\\yunan\\Downloads\\York U\\Machine Learning Cert\\ML1010\\aclImdb\\train\\neg\"\n",
    "#filenames=glob.glob(path + \"/*.txt\")\n",
    "with os.scandir(r\"C:\\Users\\yunan\\Downloads\\York U\\Machine Learning Cert\\ML1010\\aclImdb\\train\\neg\") as filenames:\n",
    "    for file in filenames:\n",
    "        head, tail = os.path.split(file)\n",
    "        file_names.append(tail)\n",
    "        is_positive.append(1)\n",
    "        with open(file, 'rb') as open_file:\n",
    "            text.append(open_file.readlines()[0])"
   ]
  },
  {
   "cell_type": "code",
   "execution_count": null,
   "id": "photographic-pilot",
   "metadata": {},
   "outputs": [],
   "source": [
    "text_df=pd.DataFrame({'file':file_names, 'text':text, 'is_positive':is_positive})"
   ]
  },
  {
   "cell_type": "code",
   "execution_count": null,
   "id": "starting-focus",
   "metadata": {},
   "outputs": [],
   "source": [
    "text_df"
   ]
  },
  {
   "cell_type": "code",
   "execution_count": null,
   "id": "varying-disease",
   "metadata": {},
   "outputs": [],
   "source": []
  },
  {
   "cell_type": "code",
   "execution_count": null,
   "id": "floral-compound",
   "metadata": {},
   "outputs": [],
   "source": []
  },
  {
   "cell_type": "code",
   "execution_count": null,
   "id": "ruled-boards",
   "metadata": {},
   "outputs": [],
   "source": []
  },
  {
   "cell_type": "code",
   "execution_count": null,
   "id": "corresponding-turkish",
   "metadata": {},
   "outputs": [],
   "source": []
  },
  {
   "cell_type": "code",
   "execution_count": null,
   "id": "racial-lobby",
   "metadata": {},
   "outputs": [],
   "source": []
  },
  {
   "cell_type": "code",
   "execution_count": null,
   "id": "adjacent-intention",
   "metadata": {},
   "outputs": [],
   "source": []
  },
  {
   "cell_type": "code",
   "execution_count": null,
   "id": "roman-intranet",
   "metadata": {},
   "outputs": [],
   "source": []
  },
  {
   "cell_type": "code",
   "execution_count": null,
   "id": "fifth-threat",
   "metadata": {},
   "outputs": [],
   "source": []
  }
 ],
 "metadata": {
  "kernelspec": {
   "display_name": "Python 3",
   "language": "python",
   "name": "python3"
  },
  "language_info": {
   "codemirror_mode": {
    "name": "ipython",
    "version": 3
   },
   "file_extension": ".py",
   "mimetype": "text/x-python",
   "name": "python",
   "nbconvert_exporter": "python",
   "pygments_lexer": "ipython3",
   "version": "3.8.8"
  }
 },
 "nbformat": 4,
 "nbformat_minor": 5
}
